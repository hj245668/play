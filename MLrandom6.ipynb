{
  "nbformat": 4,
  "nbformat_minor": 0,
  "metadata": {
    "colab": {
      "provenance": [],
      "authorship_tag": "ABX9TyO2PiWyP86tFwyOtx7p4EJY",
      "include_colab_link": true
    },
    "kernelspec": {
      "name": "python3",
      "display_name": "Python 3"
    },
    "language_info": {
      "name": "python"
    }
  },
  "cells": [
    {
      "cell_type": "markdown",
      "metadata": {
        "id": "view-in-github",
        "colab_type": "text"
      },
      "source": [
        "<a href=\"https://colab.research.google.com/github/hj245668/play/blob/main/MLrandom6.ipynb\" target=\"_parent\"><img src=\"https://colab.research.google.com/assets/colab-badge.svg\" alt=\"Open In Colab\"/></a>"
      ]
    },
    {
      "cell_type": "code",
      "source": [
        "# sora2 invite code 와 비슷한 것을 만들어보았습니다.\n",
        "# 0P3NA1 : sora 2 pc버젼에 그림자처럼 떠있는 text (나만 이렇게 보일수도)\n",
        "# 0P3NA1를 seed로 딥러닝 weight를 초기화하고\n",
        "# 난수 엔진은 default_rng() 를 사용해보았습니다.\n",
        "# while True 로 사용자가 enter 를 치면 코드를 받을 수 있고\n",
        "# ctrl c --> ctrl v 하시면 됩니다.\n",
        "\n",
        "import numpy as np\n",
        "import string\n",
        "\n",
        "# (PC version SORA 2에 떠있어서..)\n",
        "clue = \"0P3NA1\"\n",
        "\n",
        "seed_value = sum(ord(c) for c in clue)\n",
        "\n",
        "rng = np.random.default_rng(seed_value)\n",
        "\n",
        "USED_CODES_FILE = \"used_codes.txt\"\n",
        "\n",
        "def load_used_codes():\n",
        "    try:\n",
        "        with open(USED_CODES_FILE, \"r\") as f:\n",
        "            return set(f.read().splitlines())\n",
        "    except FileNotFoundError:\n",
        "        return set()\n",
        "\n",
        "def save_used_code(code):\n",
        "    with open(USED_CODES_FILE, \"a\") as f:\n",
        "        f.write(code + \"\\n\")\n",
        "\n",
        "def generate_invite_code():\n",
        "    used_codes = load_used_codes()\n",
        "    characters = list(string.ascii_uppercase + string.digits)\n",
        "\n",
        "    while True:\n",
        "        code = ''.join(rng.choice(characters, size=6))\n",
        "        if code not in used_codes:\n",
        "            save_used_code(code)\n",
        "            return code\n",
        "\n",
        "while True:\n",
        "    input(\" 6 code like sora 2 invitation( enter ! ) \")\n",
        "    print(generate_invite_code())\n",
        "\n",
        "new_code = generate_invite_code()\n",
        "print( new_code)"
      ],
      "metadata": {
        "colab": {
          "base_uri": "https://localhost:8080/"
        },
        "id": "BbBnFXn3ZNx7",
        "outputId": "dc1a87d8-ed61-4c7e-d2d6-724807b68782"
      },
      "execution_count": null,
      "outputs": [
        {
          "output_type": "stream",
          "name": "stdout",
          "text": [
            " 6 code like sora 2 invitation( enter ! ) \n",
            "RNKRAP\n"
          ]
        }
      ]
    }
  ]
}