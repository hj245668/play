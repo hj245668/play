{
  "nbformat": 4,
  "nbformat_minor": 0,
  "metadata": {
    "colab": {
      "provenance": [],
      "name": "MLrandom6.ipynb",
      "toc_visible": true,
      "authorship_tag": "ABX9TyMCd5VRr2TnsvlxZDydDRGZ",
      "include_colab_link": true
    },
    "kernelspec": {
      "name": "python3",
      "display_name": "Python 3"
    },
    "language_info": {
      "name": "python"
    }
  },
  "cells": [
    {
      "cell_type": "markdown",
      "metadata": {
        "id": "view-in-github",
        "colab_type": "text"
      },
      "source": [
        "<a href=\"https://colab.research.google.com/github/hj245668/play/blob/main/MLrandom6.ipynb\" target=\"_parent\"><img src=\"https://colab.research.google.com/assets/colab-badge.svg\" alt=\"Open In Colab\"/></a>"
      ]
    },
    {
      "cell_type": "code",
      "source": [
        "# sora2 invite code 와 비슷한 것을 만들어보았습니다.\n",
        "# 0P3NA1 : sora 2 pc버젼에 그림자처럼 떠있는 text (나만 이렇게 보일수도)\n",
        "# 0P3NA1를 seed로 딥러닝 weight를 초기화하고\n",
        "# 난수 엔진은 default_rng() 를 사용해보았습니다.\n",
        "# while True 로 사용자가 enter 를 치면 코드를 받을 수 있고\n",
        "# ctrl c --> ctrl v 하시면 됩니다.\n",
        "# sora2 invite code 와 비슷한 것을 만들어보았습니다.\n",
        "# 0P3NA1 : sora 2 pc버젼에 그림자처럼 떠있는 text (나만 이렇게 보일수도)\n",
        "# 0P3NA1를 seed로 딥러닝 weight를 초기화하고\n",
        "# 난수 엔진은 default_rng() 를 사용해보았습니다.\n",
        "# while True 로 사용자가 enter 를 치면 코드를 받을 수 있고\n",
        "# ctrl c --> ctrl v 하시면 됩니다.\n",
        "\n",
        "import numpy as np\n",
        "import string\n",
        "from google.colab import drive\n",
        "\n",
        "drive.mount('/content/drive')\n",
        "\n",
        "clue = \"0P3NA1\"\n",
        "seed_value = sum(ord(c) for c in clue)\n",
        "rng = np.random.default_rng(seed_value)\n",
        "USED_CODES_FILE = \"/content/drive/MyDrive/used_code_NLS2.txt\"\n",
        "\n",
        "def load_used_codes():\n",
        "    try:\n",
        "        with open(USED_CODES_FILE, \"r\") as f:\n",
        "            return set(f.read().splitlines())\n",
        "    except FileNotFoundError:\n",
        "        return set()\n",
        "\n",
        "def save_used_code(code):\n",
        "    with open(USED_CODES_FILE, \"a\") as f:\n",
        "        f.write(code + \"\\n\")\n",
        "\n",
        "def generate_invite_code():\n",
        "    used = load_used_codes()\n",
        "    characters = list(string.ascii_uppercase + string.digits)\n",
        "\n",
        "    while True:\n",
        "        code = ''.join(rng.choice(characters, size=6))\n",
        "        if code not in used:\n",
        "            save_used_code(code)\n",
        "            return code\n",
        "\n",
        "for i in range(5):\n",
        "    input(\" 6 code like sora 2 invitation (press enter!) \")\n",
        "    print(new_code)\n",
        "print(\" ^^* ISSUED 5 CODES. WANT MORE? RETUN\")"
      ],
      "metadata": {
        "colab": {
          "base_uri": "https://localhost:8080/"
        },
        "id": "BbBnFXn3ZNx7",
        "outputId": "1e40961f-733f-44a3-df07-71f9e1ba588f"
      },
      "execution_count": 10,
      "outputs": [
        {
          "output_type": "stream",
          "name": "stdout",
          "text": [
            "Drive already mounted at /content/drive; to attempt to forcibly remount, call drive.mount(\"/content/drive\", force_remount=True).\n",
            " 6 code like sora 2 invitation (press enter!) \n",
            "5ZOM1W\n",
            " 6 code like sora 2 invitation (press enter!) \n",
            "5ZOM1W\n",
            " 6 code like sora 2 invitation (press enter!) \n",
            "5ZOM1W\n",
            " 6 code like sora 2 invitation (press enter!) \n",
            "5ZOM1W\n",
            " 6 code like sora 2 invitation (press enter!) \n",
            "5ZOM1W\n",
            " ^^* ISSUED 5 CODES. WANT MORE? RETUN\n"
          ]
        }
      ]
    }
  ]
}